{
  "nbformat": 4,
  "nbformat_minor": 0,
  "metadata": {
    "colab": {
      "name": "session7-8.ipynb",
      "version": "0.3.2",
      "provenance": [],
      "collapsed_sections": [],
      "toc_visible": true
    },
    "kernelspec": {
      "name": "python3",
      "display_name": "Python 3"
    }
  },
  "cells": [
    {
      "metadata": {
        "id": "NkxO4xNp9NKS",
        "colab_type": "text"
      },
      "cell_type": "markdown",
      "source": [
        "# Co-enhance session 7-8: pythonのお勉強，展望"
      ]
    },
    {
      "metadata": {
        "id": "5G0JBKPM9tP9",
        "colab_type": "text"
      },
      "cell_type": "markdown",
      "source": [
        "## pythonの基本"
      ]
    },
    {
      "metadata": {
        "id": "sS9nWWMduwCY",
        "colab_type": "text"
      },
      "cell_type": "markdown",
      "source": [
        "### 変数の型 (復習)"
      ]
    },
    {
      "metadata": {
        "id": "0dxPWPSh9sMX",
        "colab_type": "code",
        "colab": {}
      },
      "cell_type": "code",
      "source": [
        "# 数値型\n",
        "x = 10\n",
        "y = 200\n",
        "print(x+y)"
      ],
      "execution_count": 0,
      "outputs": []
    },
    {
      "metadata": {
        "id": "PQ3PIwEgt2vW",
        "colab_type": "code",
        "colab": {}
      },
      "cell_type": "code",
      "source": [
        "print(x*y)"
      ],
      "execution_count": 0,
      "outputs": []
    },
    {
      "metadata": {
        "id": "0u2g--6AnHQ9",
        "colab_type": "code",
        "colab": {}
      },
      "cell_type": "code",
      "source": [
        "# 剰余\n",
        "print(y % x)"
      ],
      "execution_count": 0,
      "outputs": []
    },
    {
      "metadata": {
        "id": "q_hYgF6vvEtL",
        "colab_type": "code",
        "colab": {}
      },
      "cell_type": "code",
      "source": [
        "# 文字列型\n",
        "string1 = \"hello world\"\n",
        "string2 = 'hello world 2'"
      ],
      "execution_count": 0,
      "outputs": []
    },
    {
      "metadata": {
        "id": "-jUehdZ8vPNN",
        "colab_type": "code",
        "colab": {}
      },
      "cell_type": "code",
      "source": [
        "print(string1)\n",
        "print(string2)"
      ],
      "execution_count": 0,
      "outputs": []
    },
    {
      "metadata": {
        "id": "GhA-27x0TXQC",
        "colab_type": "code",
        "colab": {}
      },
      "cell_type": "code",
      "source": [
        "# 型には気をつけよう\n",
        "print(string1 + string2)"
      ],
      "execution_count": 0,
      "outputs": []
    },
    {
      "metadata": {
        "id": "CkkPgB-UuSTX",
        "colab_type": "code",
        "colab": {}
      },
      "cell_type": "code",
      "source": [
        "# boolean型\n",
        "hello = True"
      ],
      "execution_count": 0,
      "outputs": []
    },
    {
      "metadata": {
        "id": "l7Iwf6sKure0",
        "colab_type": "code",
        "colab": {}
      },
      "cell_type": "code",
      "source": [
        "print(hello)"
      ],
      "execution_count": 0,
      "outputs": []
    },
    {
      "metadata": {
        "id": "MG-1wnEDvYjY",
        "colab_type": "code",
        "colab": {}
      },
      "cell_type": "code",
      "source": [
        "print(not hello)"
      ],
      "execution_count": 0,
      "outputs": []
    },
    {
      "metadata": {
        "id": "_cvRFDXPgQJ5",
        "colab_type": "code",
        "colab": {}
      },
      "cell_type": "code",
      "source": [
        "hello2 = False\n",
        "hello3 = True\n",
        "\n",
        "# 型には気をつけよう\n",
        "print(hello + hello2 + hello3)"
      ],
      "execution_count": 0,
      "outputs": []
    },
    {
      "metadata": {
        "id": "RP2iG1ucl78l",
        "colab_type": "code",
        "colab": {}
      },
      "cell_type": "code",
      "source": [
        "# True and False, True or False\n",
        "print(hello and hello2)\n",
        "print(hello or hello2)"
      ],
      "execution_count": 0,
      "outputs": []
    },
    {
      "metadata": {
        "id": "f42rWZ0am6Lt",
        "colab_type": "code",
        "colab": {}
      },
      "cell_type": "code",
      "source": [
        "x = 1\n",
        "y = 2\n",
        "\n",
        "# 比較演算子の結果はbooleanになる\n",
        "print(x == y)\n",
        "print(x != y)\n",
        "print(x <= y)\n",
        "print(x > y)"
      ],
      "execution_count": 0,
      "outputs": []
    },
    {
      "metadata": {
        "id": "9e1-TK30vZqm",
        "colab_type": "code",
        "colab": {}
      },
      "cell_type": "code",
      "source": [
        "# リスト型\n",
        "obj = [2, 31, 10, 0.2, 29]"
      ],
      "execution_count": 0,
      "outputs": []
    },
    {
      "metadata": {
        "id": "TTKIFFvbwQSi",
        "colab_type": "code",
        "colab": {}
      },
      "cell_type": "code",
      "source": [
        "print(obj)"
      ],
      "execution_count": 0,
      "outputs": []
    },
    {
      "metadata": {
        "id": "B9VXbGNC2eDp",
        "colab_type": "code",
        "colab": {}
      },
      "cell_type": "code",
      "source": [
        "# 要素番号は0から始まる\n",
        "print(obj[1])"
      ],
      "execution_count": 0,
      "outputs": []
    },
    {
      "metadata": {
        "id": "pAU20VyuwQ13",
        "colab_type": "code",
        "colab": {}
      },
      "cell_type": "code",
      "source": [
        "# 辞書型 (キーと値のペアを保持)\n",
        "scores = {\n",
        "    \"math\" : 75,\n",
        "    \"japanese\" : 20,\n",
        "    \"social\" : 30,\n",
        "    \"PE\" : 2\n",
        "}"
      ],
      "execution_count": 0,
      "outputs": []
    },
    {
      "metadata": {
        "id": "ndEVEu3cwpcB",
        "colab_type": "code",
        "colab": {}
      },
      "cell_type": "code",
      "source": [
        "print(scores)"
      ],
      "execution_count": 0,
      "outputs": []
    },
    {
      "metadata": {
        "id": "alwundoGwqjZ",
        "colab_type": "code",
        "colab": {}
      },
      "cell_type": "code",
      "source": [
        "# キーで取り出す\n",
        "print(scores['PE'])"
      ],
      "execution_count": 0,
      "outputs": []
    },
    {
      "metadata": {
        "id": "6CFFT_WlmRXR",
        "colab_type": "code",
        "colab": {}
      },
      "cell_type": "code",
      "source": [
        "# 要素の追加\n",
        "scores['communication'] = 0"
      ],
      "execution_count": 0,
      "outputs": []
    },
    {
      "metadata": {
        "id": "6dy-rIJvmZPO",
        "colab_type": "code",
        "colab": {}
      },
      "cell_type": "code",
      "source": [
        "print(scores)"
      ],
      "execution_count": 0,
      "outputs": []
    },
    {
      "metadata": {
        "id": "u0tV5WDX110t",
        "colab_type": "text"
      },
      "cell_type": "markdown",
      "source": [
        "## 論理式"
      ]
    },
    {
      "metadata": {
        "id": "Fj3ZGsyB15ak",
        "colab_type": "code",
        "colab": {}
      },
      "cell_type": "code",
      "source": [
        "a = 10\n",
        "b = True\n",
        "\n",
        "# if...elif...else文 (条件文)\n",
        "if a != 10:\n",
        "    print(\"a is not 10\")\n",
        "elif b:\n",
        "    print(\"a is 10, and b is True\")\n",
        "else:\n",
        "    print(\"no conditions satisfied\")"
      ],
      "execution_count": 0,
      "outputs": []
    },
    {
      "metadata": {
        "id": "FIoZ0HH72Uo8",
        "colab_type": "code",
        "colab": {}
      },
      "cell_type": "code",
      "source": [
        "# for文 (ループ1)\n",
        "for i in range(10):\n",
        "    print(i)"
      ],
      "execution_count": 0,
      "outputs": []
    },
    {
      "metadata": {
        "colab_type": "code",
        "id": "0jH-ybdKKhf9",
        "colab": {}
      },
      "cell_type": "code",
      "source": [
        "j = 0\n",
        "\n",
        "# while文 (ループ2)\n",
        "while j < 10:\n",
        "    print(j)\n",
        "    # jに1加える\n",
        "    j += 1"
      ],
      "execution_count": 0,
      "outputs": []
    },
    {
      "metadata": {
        "id": "aaLercbinXog",
        "colab_type": "text"
      },
      "cell_type": "markdown",
      "source": [
        "### 問題: 30までのFizzBuzzを出力するプログラムを書いてください (難易度: 中)"
      ]
    },
    {
      "metadata": {
        "id": "NV073-kPnims",
        "colab_type": "text"
      },
      "cell_type": "markdown",
      "source": [
        "注： FizzBuzz... 3の倍数でFizzを出力，5の倍数でBuzzを出力，両方の時はFizzBuzzを出力，それ以外では数字をそのまま出力"
      ]
    },
    {
      "metadata": {
        "id": "4wNBFPjxndPx",
        "colab_type": "code",
        "colab": {}
      },
      "cell_type": "code",
      "source": [
        ""
      ],
      "execution_count": 0,
      "outputs": []
    },
    {
      "metadata": {
        "id": "z9_oTjHdLLok",
        "colab_type": "text"
      },
      "cell_type": "markdown",
      "source": [
        "## 関数とクラス"
      ]
    },
    {
      "metadata": {
        "id": "87TCU4nhMKog",
        "colab_type": "text"
      },
      "cell_type": "markdown",
      "source": [
        "### 関数"
      ]
    },
    {
      "metadata": {
        "id": "_kTOrbvO73NV",
        "colab_type": "code",
        "colab": {}
      },
      "cell_type": "code",
      "source": [
        "# 絶対値を表示する関数\n",
        "def absolute(x):\n",
        "    if x >= 0:\n",
        "        # 返り値\n",
        "        return x\n",
        "    else:\n",
        "        return -x"
      ],
      "execution_count": 0,
      "outputs": []
    },
    {
      "metadata": {
        "id": "TV9gzv1TB-Dg",
        "colab_type": "code",
        "colab": {}
      },
      "cell_type": "code",
      "source": [
        "absolute(-1)"
      ],
      "execution_count": 0,
      "outputs": []
    },
    {
      "metadata": {
        "id": "1HiLpYiTB_PG",
        "colab_type": "code",
        "colab": {}
      },
      "cell_type": "code",
      "source": [
        "absolute(8)"
      ],
      "execution_count": 0,
      "outputs": []
    },
    {
      "metadata": {
        "id": "HtlL9JKzMFQp",
        "colab_type": "text"
      },
      "cell_type": "markdown",
      "source": [
        "### 問題: 引数に偶数を与えたらTrue, 奇数を与えたらFalseを出力する関数を書いてみてください！ (難易度: 低)"
      ]
    },
    {
      "metadata": {
        "id": "gR_I0Pu1LAe1",
        "colab_type": "code",
        "colab": {}
      },
      "cell_type": "code",
      "source": [
        "def ..."
      ],
      "execution_count": 0,
      "outputs": []
    },
    {
      "metadata": {
        "id": "vFxbIJ1nTbt6",
        "colab_type": "text"
      },
      "cell_type": "markdown",
      "source": [
        "### 問題: リストを受け取って，各要素を2乘して出力する関数 (難易度: 中)"
      ]
    },
    {
      "metadata": {
        "id": "bUb6Ft0KTa-J",
        "colab_type": "code",
        "colab": {}
      },
      "cell_type": "code",
      "source": [
        "test = [0, 10, -30, 2, 8]\n",
        "\n",
        "def ..."
      ],
      "execution_count": 0,
      "outputs": []
    },
    {
      "metadata": {
        "id": "Z7_oGRDVT7FO",
        "colab_type": "text"
      },
      "cell_type": "markdown",
      "source": [
        "### 問題: 点数の情報が入った辞書のリストを受け取って，点数が高い順に出力する (難易度: 高)"
      ]
    },
    {
      "metadata": {
        "id": "S6jTzVp1T5-L",
        "colab_type": "code",
        "colab": {}
      },
      "cell_type": "code",
      "source": [
        "data = []\n",
        "student1 = {\n",
        "    \"name\" : \"John\",\n",
        "    \"score\" : 50,\n",
        "    \"ID\" : 61504819\n",
        "}\n",
        "student2 = {\n",
        "    \"name\" : \"Amanda\",\n",
        "    \"score\" : 98,\n",
        "    \"ID\" : 80230938\n",
        "}\n"
      ],
      "execution_count": 0,
      "outputs": []
    },
    {
      "metadata": {
        "id": "8I_0uoNPMNBx",
        "colab_type": "text"
      },
      "cell_type": "markdown",
      "source": [
        "### クラス"
      ]
    },
    {
      "metadata": {
        "id": "KvBOK_MLCA86",
        "colab_type": "code",
        "colab": {}
      },
      "cell_type": "code",
      "source": [
        "# クラス (雛形のようなもの)\n",
        "class Magician():\n",
        "    \n",
        "    # コンストラクタ (インスタンスに必要な情報を与える，初期化設定)\n",
        "    def __init__(self):\n",
        "        # クラス変数 (インスタンスがある限りこれらの変数は保持される)\n",
        "        self.level = 10\n",
        "        self.HP = self.level * 10\n",
        "        self.MP = self.level * 2\n",
        "    \n",
        "    # メソッド (クラス特有の関数)\n",
        "    def fight(self, enemylv):\n",
        "        if self.level > enemylv:\n",
        "            self.level += 1\n",
        "            self.HP -= enemylv*10\n",
        "            self.MP -= 10\n",
        "            print(\"勝利！レベルアップした\")\n",
        "        else:\n",
        "            self.HP -= enemylv*10\n",
        "            self.MP = 0\n",
        "            print(\"敗北... HPを{}失った，MPが0になった\".format(enemylv*10))\n",
        "        self.printstats()\n",
        "        if self.HP < 1:\n",
        "            # 別のメソッドを呼び出している (ゲームオーバーかどうかチェックするメソッド)\n",
        "            self.gameover()\n",
        "    \n",
        "    # MPとHPを全回復するメソッド\n",
        "    def heal(self):\n",
        "        self.HP = self.level * 10\n",
        "        self.MP = self.level * 2\n",
        "        print(\"回復しました！\")\n",
        "        self.printstats()\n",
        "    \n",
        "    # ゲームオーバーのときにどうするかのメソッド\n",
        "    def gameover(self):\n",
        "        print(\"ゲームオーバー！ 最大レベル:{}\".format(self.level))\n",
        "        \n",
        "    # ステータスを表示するメソッド\n",
        "    def printstats(self):\n",
        "        print(\"LV: {}, HP: {}/{}, MP: {}/{}\".format(\n",
        "            self.level, self.HP, self.level*10, self.MP, self.level*2))"
      ],
      "execution_count": 0,
      "outputs": []
    },
    {
      "metadata": {
        "id": "ac1c9P0zG0Bi",
        "colab_type": "code",
        "colab": {}
      },
      "cell_type": "code",
      "source": [
        "# クラスのインスタンス化 (型をもとにたい焼きをつくる)\n",
        "seito = Magician()\n",
        "# Magicianクラスのオブジェクト (Magicianの一種であるseitoインスタンス)\n",
        "print(seito)"
      ],
      "execution_count": 0,
      "outputs": []
    },
    {
      "metadata": {
        "id": "vQobvmFMHG4_",
        "colab_type": "code",
        "colab": {}
      },
      "cell_type": "code",
      "source": [
        "# seitoインスタンスのfightメソッドを呼び出す\n",
        "seito.fight(9)"
      ],
      "execution_count": 0,
      "outputs": []
    },
    {
      "metadata": {
        "id": "gNm_0cJCJCZG",
        "colab_type": "code",
        "colab": {}
      },
      "cell_type": "code",
      "source": [
        "seito.heal()"
      ],
      "execution_count": 0,
      "outputs": []
    },
    {
      "metadata": {
        "id": "TEu1WwJBIElz",
        "colab_type": "code",
        "colab": {}
      },
      "cell_type": "code",
      "source": [
        "seito.fight(12)"
      ],
      "execution_count": 0,
      "outputs": []
    },
    {
      "metadata": {
        "id": "Jot2udXPJP78",
        "colab_type": "code",
        "colab": {}
      },
      "cell_type": "code",
      "source": [
        "seito.printstats()"
      ],
      "execution_count": 0,
      "outputs": []
    },
    {
      "metadata": {
        "id": "p31B4SipoAdm",
        "colab_type": "text"
      },
      "cell_type": "markdown",
      "source": [
        "### 問題: じゃんけんを行うクラスを書いて，実際にインスタンスを立ててください (難易度: チャレンジ)"
      ]
    },
    {
      "metadata": {
        "id": "hYymhR8RJtFG",
        "colab_type": "code",
        "colab": {}
      },
      "cell_type": "code",
      "source": [
        "import random\n",
        "# 0ならばグー，1ならばチョキ，2ならばパー\n",
        "hands = [\"guu\", \"choki\", \"paa\"]\n",
        "print(hands[random.randint(0, 2)])"
      ],
      "execution_count": 0,
      "outputs": []
    },
    {
      "metadata": {
        "id": "iht16iKdozq3",
        "colab_type": "code",
        "colab": {}
      },
      "cell_type": "code",
      "source": [
        "# じゃんけんを行うクラス\n",
        "class Janken():\n",
        "    \n",
        "    # hand ... 自分の手\n",
        "    def play(self, hand):\n",
        "        print('your hand is {}'.format(hands[hand]))\n",
        "        # o_hand ... 相手の手，ランダムで決める\n",
        "        o_hand = #...\n",
        "        print('opponent\\'s hand is {}'.format(hands[o_hand]))\n",
        "        if (hand == 2 and o_hand == 0):\n",
        "            #...\n",
        "        elif (hand == 0 and o_hand == 2):\n",
        "            #...\n",
        "        elif (hand < o_hand):\n",
        "            #...\n",
        "        elif (hand > o_hand):\n",
        "            #...\n",
        "        else:\n",
        "            #...\n",
        "        \n",
        "    def win(self):\n",
        "        print(\"you win!!\")\n",
        "    \n",
        "    def lose(self):\n",
        "        print(\"you lose...\")\n",
        "    \n",
        "    def aiko(self):\n",
        "        print(\"aiko, play again\")\n",
        "        self.play(int(input()))"
      ],
      "execution_count": 0,
      "outputs": []
    },
    {
      "metadata": {
        "id": "V9nTRmjWpiN1",
        "colab_type": "code",
        "colab": {}
      },
      "cell_type": "code",
      "source": [
        "janken = Janken()\n",
        "janken.play(0)"
      ],
      "execution_count": 0,
      "outputs": []
    },
    {
      "metadata": {
        "id": "sSI32YcxqJmg",
        "colab_type": "code",
        "colab": {}
      },
      "cell_type": "code",
      "source": [
        ""
      ],
      "execution_count": 0,
      "outputs": []
    }
  ]
}